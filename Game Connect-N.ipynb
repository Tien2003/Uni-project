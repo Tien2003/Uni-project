{
 "cells": [
  {
   "cell_type": "markdown",
   "metadata": {},
   "source": [
    "# Coding Exam 2 (2023 S1)\n",
    "\n",
    "**Time:** 110 minutes<br>\n",
    "**Maximum mark:** 100\n",
    "\n",
    "<font color='red'>Unless otherwise stated, questions are marked using the autograder. As such, you have to use the function names, parameters, and returns exactly as instructed. Once results come out, you will be able to submit a ticket in Gradescope to get a question(s) reviewed and remarked if necessary.</font><br>\n",
    "\n",
    "<font color=red>Remember to submit your Jupyter notebook to **Gradescope** before the exam completion. It is recommended you make submissions throughout the exam.</font><br>\n",
    "\n",
    "<font color=red>Do not discuss or share exam questions anywhere within two weeks after exam completion.</font><br>"
   ]
  },
  {
   "cell_type": "markdown",
   "metadata": {},
   "source": [
    "---"
   ]
  },
  {
   "cell_type": "markdown",
   "metadata": {
    "tags": []
   },
   "source": [
    "# In questions 1 ~ 6 you will demonstrate your ability to code the essentials\n",
    "\n",
    "Total marks 70."
   ]
  },
  {
   "cell_type": "markdown",
   "metadata": {
    "tags": []
   },
   "source": [
    "<!-- BEGIN QUESTION -->\n",
    "\n",
    "## Q1 : User input & print (5 marks)"
   ]
  },
  {
   "cell_type": "markdown",
   "metadata": {},
   "source": [
    "Write a program that takes in user input string followed by an integer. Assign these to the variables `m` and `n` and print the string `m` `n`-times **without using a loop**. There should not be any spaces of new lines between each instance of `m`.\n",
    "\n",
    "**Example (<font color=red>red text</font> represents user input):**\n",
    "<pre>\n",
    "Please enter a string: <font color=red>la</font>\n",
    "Please enter a number: <font color=red>3</font>\n",
    "lalala\n",
    "</pre>\n",
    "\n",
    "*This question is manually marked. You may assume that the user always assigns n to a positive integer.* "
   ]
  },
  {
   "cell_type": "code",
   "execution_count": 124,
   "metadata": {
    "tags": []
   },
   "outputs": [
    {
     "name": "stdout",
     "output_type": "stream",
     "text": [
      "Please enter a string: 5\n",
      "Please enter a number: 3\n",
      "555\n"
     ]
    }
   ],
   "source": [
    "# YOUR CODE BELOW\n",
    "...\n",
    "m = str(input('Please enter a string: '))\n",
    "n = int(input('Please enter a number: '))\n",
    "\n",
    "print(m*n)"
   ]
  },
  {
   "cell_type": "markdown",
   "metadata": {
    "tags": []
   },
   "source": [
    "<!-- END QUESTION -->\n",
    "\n",
    "## Q2 : Functions, conditionals & loops (10 marks)"
   ]
  },
  {
   "cell_type": "markdown",
   "metadata": {},
   "source": [
    "Write a function `occurances()` with 2 parameters `string` and `letter`. This function should **return** the number of times `letter` appeared in `string`.\n",
    "\n",
    "You may assume `string` and `letter` only use lowercase characters and spaces."
   ]
  },
  {
   "cell_type": "code",
   "execution_count": 127,
   "metadata": {
    "tags": []
   },
   "outputs": [
    {
     "name": "stdout",
     "output_type": "stream",
     "text": [
      "7\n",
      "0\n"
     ]
    }
   ],
   "source": [
    "# INSERT YOUR CODE BELOW\n",
    "...\n",
    "def occurances(s, l):\n",
    "    count = 0\n",
    "    for i in s:\n",
    "        if i == l:\n",
    "            count += 1\n",
    "    return count\n",
    "\n",
    "# =======================\n",
    "# EXAMPLE TESTING CASES\n",
    "print(occurances('hello world fslll 4rffl', 'l')) #3 -- PUBLIC TEST CASE\n",
    "print(occurances('zzz', 'a')) #0"
   ]
  },
  {
   "cell_type": "markdown",
   "metadata": {
    "tags": []
   },
   "source": [
    "## Q3: Lists & loops (15 marks)"
   ]
  },
  {
   "cell_type": "markdown",
   "metadata": {},
   "source": [
    "Write the function `print_elements` that has 2 parameters.\n",
    "* The first `li` parameter is list.\n",
    "* The second parameter `n` is an integer. This parameter is optional and if it is not provided, its value defaults to 1 and the function behaves as normal.\n",
    "\n",
    "The function must **return** a new list containing every `n`'th value of the list as a new list (starting from the 0th element).\n",
    "\n",
    "*You can assume `li` will always be the first parameter with at least 1 element.*"
   ]
  },
  {
   "cell_type": "code",
   "execution_count": 17,
   "metadata": {
    "tags": []
   },
   "outputs": [
    {
     "name": "stdout",
     "output_type": "stream",
     "text": [
      "[0, 1, 2, 3, 4, 5, 6, 7, 8, 9]\n",
      "[0, 1, 2, 3, 4, 5, 6, 7, 8, 9]\n",
      "[0, 3, 6, 9]\n",
      "[0, 1, -2, 53, 2, 34, -24, 2345]\n"
     ]
    }
   ],
   "source": [
    "...\n",
    "def print_elements(li, n=1):\n",
    "    if n < len(li):\n",
    "        i = 0\n",
    "        new_li=[]\n",
    "        while i < len(li):\n",
    "            new_li.append(li[i])\n",
    "            i+=n\n",
    "        return new_li\n",
    "    else:\n",
    "        return li\n",
    "    \n",
    "# =======================\n",
    "# EXAMPLE TESTING CASES\n",
    "li = [0, 1, 2, 3, 4, 5, 6, 7, 8, 9]\n",
    "print(print_elements(li, 1)) #[0, 1, 2, 3, 4, 5, 6, 7, 8, 9] -- PUBLIC TEST CASE\n",
    "print(print_elements(li))    #[0, 1, 2, 3, 4, 5, 6, 7, 8, 9]\n",
    "print(print_elements(li, 3)) #[0, 3, 6, 9]\n",
    "\n",
    "\n",
    "li = [0, 1, -2, 53, 2, 34, -24, 2345]\n",
    "print(print_elements(li)) #[0, 3, 6, 9]"
   ]
  },
  {
   "cell_type": "markdown",
   "metadata": {
    "tags": []
   },
   "source": [
    "## Q4: Files & exceptions (10 marks)"
   ]
  },
  {
   "cell_type": "markdown",
   "metadata": {},
   "source": [
    "Complete the `reverse_char` function which reverses the content of `file1` character by character, then saves the reversed content to `file2`. You must also handle the exception caused by `file1` not existing. In this case, you must **print** \"X does not exist\", where X is `file1`.\n",
    "\n",
    "**Ensure you download the appropriate files from the Exam Page on MyUni. Do not change the content of these files.**"
   ]
  },
  {
   "cell_type": "code",
   "execution_count": 9,
   "metadata": {
    "tags": []
   },
   "outputs": [],
   "source": [
    "def reverse_char(file1, file2):\n",
    "    ...\n",
    "    try:\n",
    "        with open(file1, 'r') as f:\n",
    "            s=''\n",
    "            for i in f:\n",
    "                s+=i\n",
    "            s=s[::-1]\n",
    "\n",
    "            with open(file2, 'w') as f2:\n",
    "                f2.write(s)\n",
    "    except FileNotFoundError:\n",
    "            print(f'{file1} does not exist')\n",
    "            \n",
    "\n",
    "    \n",
    "# =======================\n",
    "# EXAMPLE TESTING CASES\n",
    "reverse_char('practical_exam_input0.txt', 'out.txt')\n",
    "# file out.txt should contains:\n",
    "#\n",
    "# ;htworgrednu eht ni tneb ti erehw oT\n",
    "# dluoc I sa raf sa eno nwod dekool dnA\n",
    "# doots I gnol ,relevart eno eb dnA\n",
    "# htob levart ton dluoc I yrros dnA\n",
    "# ,doow wolley a ni degrevid sdaor owT"
   ]
  },
  {
   "cell_type": "markdown",
   "metadata": {
    "tags": []
   },
   "source": [
    "## Q5 : Dictionaries (15 marks)"
   ]
  },
  {
   "cell_type": "markdown",
   "metadata": {},
   "source": [
    "Complete the following functions:\n",
    "- `build_dictionary()` that creates and **return** a dictionary that has 26 keys, one for each letter in the English alphabet. The value of 'a' is 26, 'b' is 25, etc. all the way to 'z' is 1.\n",
    "- `lazy_hash(m, d)` that takes in message `m` and dictionary `d`. The function **returns** the total value of all characters in `m`. Spaces and symbols have no impact on the value. In the event of an empty string, return 0.\n",
    "\n",
    "**Do not change any variable names or function signatures of this question**"
   ]
  },
  {
   "cell_type": "code",
   "execution_count": 12,
   "metadata": {
    "tags": []
   },
   "outputs": [
    {
     "name": "stdout",
     "output_type": "stream",
     "text": [
      "{'a': 26, 'b': 25, 'c': 24, 'd': 23, 'e': 22, 'f': 21, 'g': 20, 'h': 19, 'i': 18, 'j': 17, 'k': 16, 'l': 15, 'm': 14, 'n': 13, 'o': 12, 'p': 11, 'q': 10, 'r': 9, 's': 8, 't': 7, 'u': 6, 'v': 5, 'w': 4, 'x': 3, 'y': 2, 'z': 1}\n",
      "75\n",
      "27\n",
      "27\n",
      "36\n",
      "0\n"
     ]
    }
   ],
   "source": [
    "import string\n",
    "#print(string.ascii_lowercase) # hint: this line of code gives you lowercase alphabets a to z.\n",
    "\n",
    "def build_dictionary():\n",
    "    # INSERT YOUR CODE BELOW\n",
    "    ...\n",
    "    dic={}\n",
    "    for i in string.ascii_lowercase:\n",
    "        dic[i] = 26 - string.ascii_lowercase.index(i)\n",
    "    return dic\n",
    "\n",
    "def lazy_hash(m, d):\n",
    "    # INSERT YOUR CODE BELOW\n",
    "    ...\n",
    "    if m =='':\n",
    "        return 0\n",
    "    else:\n",
    "        s=0\n",
    "        for i in m:\n",
    "            if i.lower() in d:\n",
    "                s += d[i]\n",
    "        return s\n",
    "\n",
    "# =======================\n",
    "# EXAMPLE TESTING CASES\n",
    "my_dict = build_dictionary()\n",
    "print(my_dict)\n",
    "print(lazy_hash('abc', my_dict)) # 75 (26 + 25 + 24 = 75)\n",
    "print(lazy_hash('a z', my_dict)) # 27 (26 + 1 = 27)\n",
    "print(lazy_hash('b-y', my_dict)) # 27\n",
    "print(lazy_hash('ooo', my_dict)) # 36\n",
    "\n",
    "\n",
    "print(lazy_hash('', my_dict)) # 36"
   ]
  },
  {
   "cell_type": "markdown",
   "metadata": {
    "tags": []
   },
   "source": [
    "## Q6 : Mutable Data, lists & tuples (15 marks)"
   ]
  },
  {
   "cell_type": "markdown",
   "metadata": {},
   "source": [
    "Implement the two following functions, each of which take in a list `li` and integer `n`.\n",
    "\n",
    "- `transformIntoMinimumList()`: Modifies the original list so that it contains only `n` smallest values.\n",
    "  - Hint: You can use `li.clear()` to clear a list with name `li`.\n",
    "- `getSecondMinMax()`: which takes in a list `li` as an argument and **returns** a tuple of the second smallest and second largest values, in that order. You should not modify the original list `li`.\n",
    "\n",
    "For simplicity, you can assume that `li` only contains integers, has at least `n` items and no fewer than 4 items.\n",
    "\n",
    "The following functions may be useful.\n",
    "- You can use `li.clear()` to clear a list with name `li`.\n",
    "- `min()` and `max()`, see [Python Documentation](https://docs.python.org/3/library/functions.html)"
   ]
  },
  {
   "cell_type": "code",
   "execution_count": 18,
   "metadata": {
    "tags": []
   },
   "outputs": [
    {
     "name": "stdout",
     "output_type": "stream",
     "text": [
      "[-1, 1]\n",
      "(1, 5)\n",
      "[-2345, -1, 1, 2, 3, 4, 5, 6]\n",
      "(-100, -10)\n"
     ]
    }
   ],
   "source": [
    "def transformIntoMinimumList(li, n):\n",
    "    ...\n",
    "    t = []\n",
    "    for i in range(n):\n",
    "        t.append(min(li))\n",
    "        li.remove(min(li))\n",
    "        \n",
    "    li.clear()\n",
    "    li += t\n",
    "\n",
    "    \n",
    "def getSecondMinMax(li):\n",
    "    ...\n",
    "    li.remove(min(li))\n",
    "    li.remove(max(li))\n",
    "    \n",
    "    return (min(li), max(li))\n",
    "    \n",
    "# =======================\n",
    "# EXAMPLE TESTING CASES\n",
    "li = [1, 2, 3, 4, -1, 5, 6]\n",
    "transformIntoMinimumList(li, 2)\n",
    "print(li) # [-1, 1]\n",
    "\n",
    "li = [1, 2, 3, 4, -1, 5, 6]\n",
    "print(getSecondMinMax(li)) # (1, 5)\n",
    "\n",
    "\n",
    "li = [1, 2, 3, 4, -1, 5, 6, -2345, 45]\n",
    "transformIntoMinimumList(li, 8)\n",
    "print(li) # [-1, 1]\n",
    "\n",
    "\n",
    "li = [-1, -10, -100, -1000]\n",
    "print(getSecondMinMax(li)) # (1, 5)\n"
   ]
  },
  {
   "cell_type": "markdown",
   "metadata": {
    "tags": []
   },
   "source": [
    "# In questions 7 ~ 8 you will combine your knowledge of the fundamentals to create useful programs\n",
    "Total marks 40. These questions are designed to be more challenging. Each question is made up of two parts, so if you cannot get everything implement as many of the features as you can!"
   ]
  },
  {
   "cell_type": "markdown",
   "metadata": {
    "tags": []
   },
   "source": [
    "## Q7: Hash Tables (20 marks)"
   ]
  },
  {
   "cell_type": "markdown",
   "metadata": {},
   "source": [
    "Complete `hashTable()` function that takes string `msg` and Boolean `letter_mode`. \n",
    "\n",
    "- `msg` is a string of completely lowercase words seperated by spaces.\n",
    "- `letter_mode` is a Boolean that determines what the keys of the dictionary are.\n",
    "  - if True, the keys are the first letter of the words.\n",
    "  - if False, the keys are the lengths of the words.\n",
    "\n",
    "The function **returns** a dictionary of lists. The dictionary is made of key value pairs. The values in the dictionary are the words of string `msg` with keys as defined above.\n",
    "\n",
    "Do **not** sort the keys or values, simply add them in the order you encounter them.\n",
    "\n",
    "Examples:\n",
    "1) `hashTable('hello nice ninja', True)` should return `{'h': ['hello'], 'n': ['nice', 'ninja']}`. as only 'hello' begins with 'h', while both 'nice' and 'ninja' begin with 'n'.\n",
    "2) `hashTable('abra kadabra alakazam', False)` should return `{4: ['abra'], 7: ['kadabra'], 8: ['alakazam']}` as both 'abra' and 'kadabra' end with 'a' and only 'alakazam' ends with 'm'.\n",
    "\n",
    "*10 marks test for each of the two Boolean values.*"
   ]
  },
  {
   "cell_type": "code",
   "execution_count": 146,
   "metadata": {
    "tags": []
   },
   "outputs": [
    {
     "name": "stdout",
     "output_type": "stream",
     "text": [
      "{'h': ['hello'], 'n': ['nice', 'ninja'], 'g': ['g5rg'], 'r': ['rf', 'raff']}\n",
      "{4: ['abra', 'mama'], 7: ['kadabra'], 8: ['alakazam']}\n"
     ]
    }
   ],
   "source": [
    "def hashTable(msg, letter_mode):\n",
    "    ...\n",
    "    s = msg.split(' ')\n",
    "    dic={}\n",
    "    \n",
    "    if letter_mode == True:\n",
    "        for i in s:\n",
    "            if i[0] not in dic:\n",
    "                dic[i[0]] = []\n",
    "            dic[i[0]].append(i)\n",
    "            \n",
    "    else:\n",
    "        for i in s:\n",
    "            if len(i) not in dic:\n",
    "                dic[len(i)] = []\n",
    "            dic[len(i)].append(i)\n",
    "            \n",
    "    return dic\n",
    "    \n",
    "    \n",
    "# =======================\n",
    "# EXAMPLE TESTING CASES\n",
    "print(hashTable('hello nice ninja g5rg rf raff', True)) # {'h': ['hello'], 'n': ['nice', 'ninja']}\n",
    "print(hashTable('abra kadabra alakazam mama', False)) # {4: ['abra'], 7: ['kadabra'], 8: ['alakazam']}"
   ]
  },
  {
   "cell_type": "markdown",
   "metadata": {
    "tags": []
   },
   "source": [
    "## Q8: Calculating Statistics (20 marks)"
   ]
  },
  {
   "cell_type": "markdown",
   "metadata": {},
   "source": [
    "Complete each of the following functions that have a list of integers `numbers` as their parameter. For each question, you can assume that `numbers` will have at least 2 elements, and all elements are valid integers. If you cannot complete a part, try one of the other functions.\n",
    "\n",
    "### Part A (3 marks)\n",
    "Implement the function `calculate_mean`. This function should **return** the average of the numbers in the list (i.e. the sum of all numbers in the list divided by how many numbers are in the list). **Do not round this number.**\n",
    "\n",
    "### Part B (6 marks)\n",
    "Implement the function `calculate_median`. This function should **return** the middle value of the sorted list. If the list has an even number of elements, take the average of the two middle values **(in which case do not round).**\n",
    "\n",
    "**Hint:** the function `sorted()` might be useful; see [Python Documentation](https://docs.python.org/3/library/functions.html)\n",
    "\n",
    "### Part C (9 marks)\n",
    "Write a Python function called `calculate_mode` that **returns** a list of the most frequently occurring value(s) in the list.\n",
    "\n",
    "**Hint:** Consider using a dictionary with keys representing each unique number in the list and values corresponding to the number of times that number appeared.\n",
    "\n",
    "### Part D (2 marks)\n",
    "Write a Python function called `format_statistics()` that **returns** a formatted string containing of the following statistics that matches the formatting demonstrated in the example below:\n",
    "- \"mean\": from part A\n",
    "- \"median\": from part B\n",
    "- \"mode\": from part C\n",
    "\n",
    "Example:\n",
    "- Given an input of `[2, 4, 6, 4, 8, 2, 10, 2, 4]`, its output should be \"`mean = 4.666666666666667, median = 4, mode = [2, 4]`\" (without quotes).\n",
    "- Given an input of `[2, 4, 6, 8, 2, 14]`, its output should be \"`mean = 6.0, median = 5.0, mode = [2]`\" (without quotes)."
   ]
  },
  {
   "cell_type": "code",
   "execution_count": 16,
   "metadata": {
    "tags": []
   },
   "outputs": [
    {
     "name": "stdout",
     "output_type": "stream",
     "text": [
      "55.0\n",
      "mean = 55.0, median = 55.0, mode = [10, 20, 30, 40, 50, 60, 70, 80, 90, 100]\n"
     ]
    }
   ],
   "source": [
    "def calculate_mean(numbers):\n",
    "    ...\n",
    "    s=0\n",
    "    for i in numbers:\n",
    "        s+= i\n",
    "    return s/len(numbers)\n",
    "def calculate_median(numbers):\n",
    "    ...\n",
    "    li = sorted(numbers)\n",
    "    middle = int(len(numbers) /2)\n",
    "    \n",
    "    if len(numbers) % 2 ==0:\n",
    "        return (li[middle-1] + li[middle])/2\n",
    "    else:\n",
    "        return li[middle]\n",
    "    \n",
    "\n",
    "def calculate_mode(numbers):\n",
    "    ...\n",
    "    dic = {}\n",
    "    for i in numbers:\n",
    "        count = 0\n",
    "        for j in numbers:\n",
    "            if i == j:\n",
    "                count += 1\n",
    "        if count in dic:\n",
    "            if i not in dic[count]:\n",
    "                dic[count].append(i)\n",
    "        else:\n",
    "            dic[count] = []\n",
    "            dic[count].append(i)\n",
    "    return dic[max(dic)]\n",
    "\n",
    "def calculate_statistics(numbers):\n",
    "    ...\n",
    "    return f'mean = {calculate_mean(numbers)}, median = {calculate_median(numbers)}, mode = {calculate_mode(numbers)}'\n",
    "\n",
    "# =======================\n",
    "# EXAMPLE TESTING CASES\n",
    "\n",
    "numbers = [10, 20, 30, 40, 50, 60, 70, 80, 90, 100]\n",
    "print(calculate_median(numbers))\n",
    "print(calculate_statistics(numbers))"
   ]
  },
  {
   "cell_type": "code",
   "execution_count": null,
   "metadata": {},
   "outputs": [],
   "source": [
    "print(\"## TEST #1\")\n",
    "numbers = [2, 4, 6, 4, 8, 2, 10, 2, 4]\n",
    "\n",
    "r1 = calculate_mean(numbers)\n",
    "print(r1) # 4.666666666666667\n",
    "\n",
    "r2 = calculate_median(numbers)\n",
    "print(r2) # 4\n",
    "\n",
    "r3 = calculate_mode(numbers)\n",
    "print(r3) # [2, 4]\n",
    "\n",
    "r4 = calculate_statistics(numbers)\n",
    "print(r4) # \"mean = 4.666666666666667, median = 4, mode = [2, 4]\"\n",
    "\n",
    "print(\"\\n## TEST #2\")\n",
    "numbers = [2, 4, 6, 8, 2, 14]\n",
    "\n",
    "r1 = calculate_mean(numbers)\n",
    "print(r1) # 6.0\n",
    "\n",
    "r2 = calculate_median(numbers)\n",
    "print(r2) # 5.0\n",
    "\n",
    "r3 = calculate_mode(numbers)\n",
    "print(r3) # [2]\n",
    "\n",
    "r4 = calculate_statistics(numbers)\n",
    "print(r4) # \"mean = 6.0, median = 5.0, mode = [2]\"\n",
    "\n",
    "\n",
    "\n",
    "print(\"\\n## TEST #2\")\n",
    "numbers = [2, 4, 6, 8, 2, 14, -254, 4, 4, 4]\n",
    "\n",
    "r4 = calculate_statistics(numbers)\n",
    "print(r4) # \"mean = 6.0, median = 5.0, mode = [2]\""
   ]
  },
  {
   "cell_type": "markdown",
   "metadata": {},
   "source": [
    "# <font color=red>Remember to submit your Jupyter notebook on Gradescope</font>"
   ]
  }
 ],
 "metadata": {
  "kernelspec": {
   "display_name": "Python 3 (ipykernel)",
   "language": "python",
   "name": "python3"
  },
  "language_info": {
   "codemirror_mode": {
    "name": "ipython",
    "version": 3
   },
   "file_extension": ".py",
   "mimetype": "text/x-python",
   "name": "python",
   "nbconvert_exporter": "python",
   "pygments_lexer": "ipython3",
   "version": "3.7.1"
  },
  "otter": {
   "tests": {
    "Q2": {
     "name": "Q2",
     "points": 10,
     "suites": [
      {
       "cases": [
        {
         "code": ">>> occurances('hello world', 'l') #3 -- PUBLIC TEST CASE\n3",
         "failure_message": "Incorrect answer, try again!",
         "hidden": false,
         "locked": false,
         "success_message": "Good job!"
        }
       ],
       "scored": true,
       "setup": "",
       "teardown": "",
       "type": "doctest"
      }
     ]
    },
    "Q3": {
     "name": "Q3",
     "points": 15,
     "suites": [
      {
       "cases": [
        {
         "code": ">>> l1 = [0, 1, 2, 3, 4, 5, 6, 7, 8, 9]\n>>> l2 = print_elements(l1, 1) # PUBLIC TEST CASE\n>>> \n>>> assert l1 == [0, 1, 2, 3, 4, 5, 6, 7, 8, 9], \"original list was modified\"\n>>> assert l2 == [0, 1, 2, 3, 4, 5, 6, 7, 8, 9], \"final list is incorrect\"\n>>> \n>>> True\nTrue",
         "hidden": false,
         "locked": false
        }
       ],
       "scored": true,
       "setup": "",
       "teardown": "",
       "type": "doctest"
      }
     ]
    },
    "Q4": {
     "name": "Q4",
     "points": 10,
     "suites": [
      {
       "cases": [],
       "scored": true,
       "setup": "",
       "teardown": "",
       "type": "doctest"
      }
     ]
    },
    "Q5": {
     "name": "Q5",
     "points": 15,
     "suites": [
      {
       "cases": [],
       "scored": true,
       "setup": "",
       "teardown": "",
       "type": "doctest"
      }
     ]
    },
    "Q6": {
     "name": "Q6",
     "points": 15,
     "suites": [
      {
       "cases": [],
       "scored": true,
       "setup": "",
       "teardown": "",
       "type": "doctest"
      }
     ]
    },
    "Q7": {
     "name": "Q7",
     "points": 20,
     "suites": [
      {
       "cases": [],
       "scored": true,
       "setup": "",
       "teardown": "",
       "type": "doctest"
      }
     ]
    },
    "Q8": {
     "name": "Q8",
     "points": 20,
     "suites": [
      {
       "cases": [
        {
         "code": ">>> numbers = [2, 4, 6, 4, 8, 2, 10, 2, 4]\n>>> calculate_mean(numbers) # 4.666666666666667\n4.666666666666667",
         "hidden": false,
         "locked": false,
         "points": 1
        },
        {
         "code": ">>> numbers = [2, 4, 6, 4, 8, 2, 10, 2, 4]\n>>> calculate_median(numbers) # 4\n4",
         "hidden": false,
         "locked": false,
         "points": 2
        },
        {
         "code": ">>> numbers = [2, 4, 6, 4, 8, 2, 10, 2, 4]\n>>> calculate_mode(numbers) # [2, 4]\n[2, 4]",
         "hidden": false,
         "locked": false,
         "points": 3
        }
       ],
       "scored": true,
       "setup": "",
       "teardown": "",
       "type": "doctest"
      }
     ]
    }
   }
  },
  "vscode": {
   "interpreter": {
    "hash": "d57c152add3a77aa406b6a31edc12b55f0062050fedadc6ea5d152b48566b0e5"
   }
  }
 },
 "nbformat": 4,
 "nbformat_minor": 4
}
